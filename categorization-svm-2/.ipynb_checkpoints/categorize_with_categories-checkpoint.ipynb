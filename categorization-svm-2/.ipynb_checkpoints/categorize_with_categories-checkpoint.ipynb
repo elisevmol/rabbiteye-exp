{
 "cells": [
  {
   "cell_type": "markdown",
   "metadata": {},
   "source": [
    "Implementation on new data with Bubble"
   ]
  },
  {
   "cell_type": "code",
   "execution_count": 7,
   "metadata": {
    "collapsed": false
   },
   "outputs": [
    {
     "name": "stderr",
     "output_type": "stream",
     "text": [
      "//anaconda/lib/python2.7/site-packages/sklearn/cross_validation.py:44: DeprecationWarning: This module was deprecated in version 0.18 in favor of the model_selection module into which all the refactored classes and functions are moved. Also note that the interface of the new CV iterators are different from that of this module. This module will be removed in 0.20.\n",
      "  \"This module will be removed in 0.20.\", DeprecationWarning)\n"
     ]
    }
   ],
   "source": [
    "import re\n",
    "import sys\n",
    "import csv\n",
    "import time\n",
    "import json\n",
    "\n",
    "import numpy as np\n",
    "import pandas as pd\n",
    "import matplotlib.pyplot as plt\n",
    "\n",
    "from featurize_category import tokenize_all\n",
    "from tqdm import tqdm_notebook\n",
    "from unidecode import unidecode\n",
    "\n",
    "from collections import defaultdict\n",
    "from collections import Counter\n",
    "from nltk import word_tokenize\n",
    "from nltk.corpus import stopwords\n",
    "\n",
    "from sklearn.svm import LinearSVC\n",
    "from sklearn.feature_selection import SelectPercentile\n",
    "from sklearn.metrics import classification_report\n",
    "from sklearn.metrics import precision_recall_fscore_support\n",
    "from sklearn.metrics import recall_score\n",
    "from sklearn.multiclass import OneVsRestClassifier\n",
    "from sklearn.cross_validation import cross_val_score\n",
    "from sklearn.cross_validation import cross_val_predict\n",
    "from sklearn.cross_validation import LeaveOneLabelOut\n",
    "from sklearn.cross_validation import train_test_split\n",
    "from sklearn.feature_extraction.text import CountVectorizer"
   ]
  },
  {
   "cell_type": "code",
   "execution_count": 8,
   "metadata": {
    "collapsed": true
   },
   "outputs": [],
   "source": [
    "source = '/Users/elise/Documents/?/? data/new/product_nuts_with_usage_and_product_id.csv'\n",
    "#source = 'data/product_nuts_with_usage_and_product_id.csv'"
   ]
  },
  {
   "cell_type": "code",
   "execution_count": 9,
   "metadata": {
    "collapsed": false
   },
   "outputs": [
    {
     "name": "stdout",
     "output_type": "stream",
     "text": [
      "\n"
     ]
    }
   ],
   "source": [
    "data_pn_usage = []\n",
    "\n",
    "with open(source) as csvfile:\n",
    "    readCSV = csv.reader(csvfile, delimiter=',')\n",
    "    for row in tqdm_notebook(readCSV):\n",
    "        data_pn_usage.append(eval(row[0]))"
   ]
  },
  {
   "cell_type": "markdown",
   "metadata": {},
   "source": [
    "** Select only those product nuts that have a category ** "
   ]
  },
  {
   "cell_type": "code",
   "execution_count": 12,
   "metadata": {
    "collapsed": false
   },
   "outputs": [
    {
     "name": "stderr",
     "output_type": "stream",
     "text": [
      "//anaconda/lib/python2.7/site-packages/unidecode/__init__.py:46: RuntimeWarning: Argument <type 'str'> is not an unicode object. Passing an encoded string will likely have unexpected results.\n",
      "  _warn_if_not_unicode(string)\n"
     ]
    }
   ],
   "source": [
    "pn_categories = [x for x in data_pn_usage if x.get('categories', '') != '']\n",
    "id_tokens_categories = tokenize_all(pn_categories)"
   ]
  },
  {
   "cell_type": "code",
   "execution_count": 13,
   "metadata": {
    "collapsed": false
   },
   "outputs": [
    {
     "data": {
      "text/plain": [
       "177520"
      ]
     },
     "execution_count": 13,
     "metadata": {},
     "output_type": "execute_result"
    }
   ],
   "source": [
    "len(pn_categories)"
   ]
  },
  {
   "cell_type": "markdown",
   "metadata": {},
   "source": [
    "- Remove doubles\n",
    "- Include only those nut products if the usage appears in at least 3 products"
   ]
  },
  {
   "cell_type": "code",
   "execution_count": 14,
   "metadata": {
    "collapsed": false
   },
   "outputs": [
    {
     "name": "stdout",
     "output_type": "stream",
     "text": [
      "\n"
     ]
    }
   ],
   "source": [
    "# removes doubles\n",
    "known = set()\n",
    "no_doubles = []\n",
    "\n",
    "for d in tqdm_notebook(id_tokens_categories):\n",
    "    tok = ' '.join(d['tokens'])\n",
    "    if tok in known: \n",
    "        continue\n",
    "    no_doubles.append(d)\n",
    "    known.add(tok)"
   ]
  },
  {
   "cell_type": "code",
   "execution_count": 15,
   "metadata": {
    "collapsed": false
   },
   "outputs": [
    {
     "name": "stdout",
     "output_type": "stream",
     "text": [
      "\n"
     ]
    }
   ],
   "source": [
    "# makes a dict where each tuple has one usage and all the product_ids linked to it\n",
    "k = [{x['usage']: x['product_id']} for x in no_doubles]\n",
    "dd = defaultdict(list)\n",
    "\n",
    "for d in tqdm_notebook(k): \n",
    "    for key, value in d.iteritems():\n",
    "        dd[key].append(value)"
   ]
  },
  {
   "cell_type": "code",
   "execution_count": 16,
   "metadata": {
    "collapsed": false
   },
   "outputs": [
    {
     "name": "stdout",
     "output_type": "stream",
     "text": [
      "\n",
      "\n"
     ]
    }
   ],
   "source": [
    "# checks if a usage is linked to at least 3 products\n",
    "allowed_usage = []\n",
    "for x in tqdm_notebook(dd.items()):\n",
    "    if len(set(x[1])) > 2:\n",
    "        allowed_usage.append(x[0])\n",
    "        \n",
    "set_allowed_usage = set(allowed_usage)\n",
    "\n",
    "complete = []\n",
    "for x in tqdm_notebook(no_doubles):\n",
    "    if x['usage'] in set_allowed_usage:\n",
    "        complete.append(x)"
   ]
  },
  {
   "cell_type": "markdown",
   "metadata": {},
   "source": [
    "LABELS"
   ]
  },
  {
   "cell_type": "code",
   "execution_count": 17,
   "metadata": {
    "collapsed": true
   },
   "outputs": [],
   "source": [
    "labels = [x['product_id'] for x in complete]"
   ]
  },
  {
   "cell_type": "code",
   "execution_count": 18,
   "metadata": {
    "collapsed": false
   },
   "outputs": [
    {
     "name": "stdout",
     "output_type": "stream",
     "text": [
      "\n"
     ]
    }
   ],
   "source": [
    "K_fold = int(len(set(labels)) / 6)\n",
    "\n",
    "one = set(list(set(labels))[:K_fold])\n",
    "two = set(list(set(labels))[K_fold:(K_fold * 2)])\n",
    "three = set(list(set(labels))[(2 * K_fold):(K_fold * 3)])\n",
    "four = set(list(set(labels))[(3 * K_fold):(K_fold * 4)])\n",
    "five = set(list(set(labels))[(4 * K_fold):(K_fold * 5)])\n",
    "six = set(list(set(labels))[(5 * K_fold):])\n",
    "\n",
    "labels_6 = []\n",
    "for label in tqdm_notebook(labels):\n",
    "    if label in one:\n",
    "        labels_6.append(1)\n",
    "    elif label in two:\n",
    "        labels_6.append(2)\n",
    "    elif label in three:\n",
    "        labels_6.append(3)\n",
    "    elif label in four:\n",
    "        labels_6.append(4)\n",
    "    elif label in five:\n",
    "        labels_6.append(5)\n",
    "    elif label in six:\n",
    "        labels_6.append(6)"
   ]
  },
  {
   "cell_type": "markdown",
   "metadata": {},
   "source": [
    "X"
   ]
  },
  {
   "cell_type": "code",
   "execution_count": 19,
   "metadata": {
    "collapsed": false
   },
   "outputs": [],
   "source": [
    "text_per_item_pn_TRAIN = [' '.join(tokens['tokens']) for tokens in complete if tokens['product_id'] not in six]\n",
    "text_per_item_pn_VALIDATE = [' '.join(tokens['tokens']) for tokens in complete if tokens['product_id'] in six]"
   ]
  },
  {
   "cell_type": "code",
   "execution_count": 20,
   "metadata": {
    "collapsed": false
   },
   "outputs": [],
   "source": [
    "vectorizer = CountVectorizer(min_df=1, binary=True)\n",
    "X_TRAIN = vectorizer.fit_transform(text_per_item_pn_TRAIN)"
   ]
  },
  {
   "cell_type": "code",
   "execution_count": 21,
   "metadata": {
    "collapsed": true
   },
   "outputs": [],
   "source": [
    "vocab = vectorizer.vocabulary_\n",
    "vectorizer = CountVectorizer(min_df=1, vocabulary=vocab)\n",
    "X_VALIDATE = vectorizer.fit_transform(text_per_item_pn_VALIDATE)"
   ]
  },
  {
   "cell_type": "markdown",
   "metadata": {},
   "source": [
    "Y"
   ]
  },
  {
   "cell_type": "code",
   "execution_count": 22,
   "metadata": {
    "collapsed": true
   },
   "outputs": [],
   "source": [
    "Y_TRAIN = [x['usage'] for x in complete if x['product_id'] not in six]\n",
    "Y_VALIDATE = [x['usage'] for x in complete if x['product_id'] in six]"
   ]
  },
  {
   "cell_type": "code",
   "execution_count": 23,
   "metadata": {
    "collapsed": false
   },
   "outputs": [],
   "source": [
    "labels_TRAIN = []\n",
    "for x in enumerate(labels_6):\n",
    "    if x[1] != 6:\n",
    "        labels_TRAIN.append(x[1])"
   ]
  },
  {
   "cell_type": "code",
   "execution_count": 24,
   "metadata": {
    "collapsed": false
   },
   "outputs": [
    {
     "name": "stdout",
     "output_type": "stream",
     "text": [
      "X:  (12895, 21469) Y:  12895\n",
      "X:  (66721, 21469) Y:  66721 Labels:  66721\n"
     ]
    }
   ],
   "source": [
    "print 'X: ', X_VALIDATE.shape, 'Y: ', len(Y_VALIDATE)\n",
    "print 'X: ', X_TRAIN.shape, 'Y: ',len(Y_TRAIN), 'Labels: ', len(labels_TRAIN)"
   ]
  },
  {
   "cell_type": "markdown",
   "metadata": {},
   "source": [
    "Cross_Validation"
   ]
  },
  {
   "cell_type": "code",
   "execution_count": 112,
   "metadata": {
    "collapsed": false
   },
   "outputs": [
    {
     "name": "stdout",
     "output_type": "stream",
     "text": [
      "[LibLinear][LibLinear][LibLinear][LibLinear][LibLinear]"
     ]
    }
   ],
   "source": [
    "cv = LeaveOneLabelOut(labels_TRAIN)\n",
    "\n",
    "clf = LinearSVC(random_state = 2, verbose = 1)\n",
    "scores = cross_val_score(clf, X_TRAIN, Y_TRAIN, cv=cv, scoring='accuracy')"
   ]
  },
  {
   "cell_type": "code",
   "execution_count": 113,
   "metadata": {
    "collapsed": false
   },
   "outputs": [
    {
     "name": "stdout",
     "output_type": "stream",
     "text": [
      "Accuracy: 0.68 (+/- 0.05)\n"
     ]
    }
   ],
   "source": [
    "print \"Accuracy: %0.2f (+/- %0.2f)\" % (scores.mean(), scores.std() * 2)"
   ]
  },
  {
   "cell_type": "markdown",
   "metadata": {},
   "source": [
    "** Feature Reduction **"
   ]
  },
  {
   "cell_type": "code",
   "execution_count": 172,
   "metadata": {
    "collapsed": true
   },
   "outputs": [],
   "source": [
    "def compute_scores(X, Y, labels):\n",
    "    cv = LeaveOneLabelOut(labels_TRAIN)\n",
    "    clf = LinearSVC(random_state = 2, verbose = 1, max_iter=200000)\n",
    "    scores = cross_val_score(clf, X, Y, cv=cv, scoring='accuracy', n_jobs=-1)\n",
    "    \n",
    "    return scores"
   ]
  },
  {
   "cell_type": "code",
   "execution_count": 127,
   "metadata": {
    "collapsed": false
   },
   "outputs": [],
   "source": [
    "TRAIN = []\n",
    "percentages = [10, 20, 30, 40, 50, 60, 70, 80, 90, 100]\n",
    "\n",
    "for precentage in percentages:\n",
    "    TRAIN.append([precentage, SelectPercentile(percentile=precentage).fit_transform(X_TRAIN, Y_TRAIN)])"
   ]
  },
  {
   "cell_type": "code",
   "execution_count": 173,
   "metadata": {
    "collapsed": false
   },
   "outputs": [
    {
     "name": "stdout",
     "output_type": "stream",
     "text": [
      "\n"
     ]
    }
   ],
   "source": [
    "scores = []\n",
    "for train_x in tqdm_notebook(TRAIN):\n",
    "    scores.append([train_x[0], compute_scores(train_x[1], Y_TRAIN, labels_TRAIN)])"
   ]
  },
  {
   "cell_type": "code",
   "execution_count": 174,
   "metadata": {
    "collapsed": false,
    "scrolled": true
   },
   "outputs": [
    {
     "name": "stdout",
     "output_type": "stream",
     "text": [
      "Accuracy Linear SVC 10: 0.63 (+/- 0.06)\n",
      "Accuracy Linear SVC 20: 0.66 (+/- 0.05)\n",
      "Accuracy Linear SVC 30: 0.67 (+/- 0.05)\n",
      "Accuracy Linear SVC 40: 0.67 (+/- 0.05)\n",
      "Accuracy Linear SVC 50: 0.67 (+/- 0.05)\n",
      "Accuracy Linear SVC 60: 0.67 (+/- 0.05)\n",
      "Accuracy Linear SVC 70: 0.67 (+/- 0.05)\n",
      "Accuracy Linear SVC 80: 0.68 (+/- 0.05)\n",
      "Accuracy Linear SVC 90: 0.68 (+/- 0.05)\n",
      "Accuracy Linear SVC 100: 0.68 (+/- 0.05)\n"
     ]
    }
   ],
   "source": [
    "for score in scores:\n",
    "    print \"Accuracy Linear SVC \" + str(score[0]) + \": %0.2f (+/- %0.2f)\" % (score[1].mean(), score[1].std() * 2)"
   ]
  },
  {
   "cell_type": "markdown",
   "metadata": {},
   "source": [
    "** Plot **"
   ]
  },
  {
   "cell_type": "code",
   "execution_count": 5,
   "metadata": {
    "collapsed": false
   },
   "outputs": [
    {
     "data": {
      "image/png": "[encoded data removed]",
      "text/plain": [
       "<matplotlib.figure.Figure at 0x10a9c1ad0>"
      ]
     },
     "metadata": {},
     "output_type": "display_data"
    }
   ],
   "source": [
    "plt.title('Feature Reduction')\n",
    "plt.xlabel('Percentage of the Features')\n",
    "plt.ylabel('Accuracy')\n",
    "plt.grid(True)\n",
    "\n",
    "x = np.array([score[0] for score in scores])\n",
    "y = np.array([score[1] for score in scores])\n",
    "\n",
    "plt.plot(x, y, color='black', marker='o', linestyle='-', markerfacecolor='pink', markersize=5)\n",
    "plt.savefig('feature_reduction_categories.png')\n",
    "plt.show()"
   ]
  },
  {
   "cell_type": "markdown",
   "metadata": {},
   "source": [
    "** Check what is removed **"
   ]
  },
  {
   "cell_type": "code",
   "execution_count": 25,
   "metadata": {
    "collapsed": false
   },
   "outputs": [],
   "source": [
    "reduced = SelectPercentile(percentile=2)\n",
    "reduced.fit(X_TRAIN, Y_TRAIN)\n",
    "list_of_features = reduced.get_support()"
   ]
  },
  {
   "cell_type": "code",
   "execution_count": 26,
   "metadata": {
    "collapsed": false
   },
   "outputs": [],
   "source": [
    "index_removed = []\n",
    "for x in enumerate(list_of_features):\n",
    "    if x[1] != True:\n",
    "        index_removed.append(x[0])"
   ]
  },
  {
   "cell_type": "code",
   "execution_count": 27,
   "metadata": {
    "collapsed": true
   },
   "outputs": [],
   "source": [
    "flipped_vocab = {v: k for k, v in vocab.iteritems()}"
   ]
  },
  {
   "cell_type": "code",
   "execution_count": 28,
   "metadata": {
    "collapsed": false
   },
   "outputs": [],
   "source": [
    "list_removed = []\n",
    "for n in index_removed:\n",
    "    list_removed.append(flipped_vocab[n])"
   ]
  },
  {
   "cell_type": "code",
   "execution_count": 29,
   "metadata": {
    "collapsed": false
   },
   "outputs": [
    {
     "data": {
      "text/plain": [
       "{u'00',\n",
       " u'10l',\n",
       " u'2delig',\n",
       " u'aanstekers',\n",
       " u'aardappelen',\n",
       " u'aardappelkroketjes',\n",
       " u'aardappelproducten',\n",
       " u'aardappelpuree',\n",
       " u'aardappelsalade',\n",
       " u'aardappelschotel',\n",
       " u'abdijkaas',\n",
       " u'alcoholvrije',\n",
       " u'alcolholvrije',\n",
       " u'aloe',\n",
       " u'alpro',\n",
       " u'always',\n",
       " u'amandeldrink',\n",
       " u'ambi',\n",
       " u'americain',\n",
       " u'ananassap',\n",
       " u'andijvie',\n",
       " u'ansjovisfilets',\n",
       " u'antibreakagemask',\n",
       " u'appelmoes',\n",
       " u'aqua',\n",
       " u'aromatisch',\n",
       " u'artisjokken',\n",
       " u'asperges',\n",
       " u'atjar',\n",
       " u'augurken',\n",
       " u'baba',\n",
       " u'baby',\n",
       " u'babyverzorging',\n",
       " u'babyvoeding',\n",
       " u'badkamer',\n",
       " u'bagels',\n",
       " u'bakbloedworst',\n",
       " u'bakleverworst',\n",
       " u'bapao',\n",
       " u'belegen',\n",
       " u'berliner',\n",
       " u'beschuit',\n",
       " u'bessensap',\n",
       " u'bieflappen',\n",
       " u'bier',\n",
       " u'bieten',\n",
       " u'bietensap',\n",
       " u'bima',\n",
       " u'bitterballen',\n",
       " u'blauwaderkaas',\n",
       " u'bloemkoolroosjes',\n",
       " u'boerenkool',\n",
       " u'bolsius',\n",
       " u'bonen',\n",
       " u'boomstammetje',\n",
       " u'bosuitjes',\n",
       " u'boterhamworst',\n",
       " u'bouillon',\n",
       " u'braadsticks',\n",
       " u'brie',\n",
       " u'bubbels',\n",
       " u'bulgaarse',\n",
       " u'cacaomassa',\n",
       " u'cacaopoeder',\n",
       " u'cambozola',\n",
       " u'carpaccio',\n",
       " u'cashewnoten',\n",
       " u'casselerrib',\n",
       " u'cassis',\n",
       " u'castello',\n",
       " u'cervelaat',\n",
       " u'ceylon',\n",
       " u'champignonburgers',\n",
       " u'champignons',\n",
       " u'cherimoya',\n",
       " u'chiazaad',\n",
       " u'chileno',\n",
       " u'chilibonen',\n",
       " u'chocolade',\n",
       " u'chocomel',\n",
       " u'chocxx',\n",
       " u'chorizo',\n",
       " u'chutney',\n",
       " u'cider',\n",
       " u'citroenen',\n",
       " u'citroensap',\n",
       " u'coburger',\n",
       " u'cola',\n",
       " u'conditioner',\n",
       " u'conditioners',\n",
       " u'containerzakken',\n",
       " u'corned',\n",
       " u'croissants',\n",
       " u'croutons',\n",
       " u'cupasoup',\n",
       " u'delicatessen',\n",
       " u'deodorant',\n",
       " u'donuts',\n",
       " u'dranken',\n",
       " u'druivensap',\n",
       " u'earl',\n",
       " u'eieren',\n",
       " u'eierkoeken',\n",
       " u'emmentaler',\n",
       " u'enkhuizer',\n",
       " u'entrecote',\n",
       " u'escargots',\n",
       " u'faber',\n",
       " u'falafel',\n",
       " u'fazant',\n",
       " u'fazantenvlees',\n",
       " u'filet',\n",
       " u'flosdraad',\n",
       " u'focaccia',\n",
       " u'fricandeau',\n",
       " u'frikandellen',\n",
       " u'fritessaus',\n",
       " u'fruitcocktail',\n",
       " u'fuet',\n",
       " u'fusilli',\n",
       " u'galbani',\n",
       " u'garnalen',\n",
       " u'gehaktballetjes',\n",
       " u'geitenkaas',\n",
       " u'geitenmelk',\n",
       " u'geitenyoghurt',\n",
       " u'gelatine',\n",
       " u'geneesmiddelen',\n",
       " u'gevriesdroogde',\n",
       " u'gils',\n",
       " u'gnocchi',\n",
       " u'goodlife',\n",
       " u'gorgonzola',\n",
       " u'grana',\n",
       " u'granaatappelpitjes',\n",
       " u'grapefruits',\n",
       " u'grey',\n",
       " u'grillworst',\n",
       " u'guacamole',\n",
       " u'gum',\n",
       " u'gyrosreepjes',\n",
       " u'haar',\n",
       " u'haardhout',\n",
       " u'haarverzorging',\n",
       " u'halloumi',\n",
       " u'hamburgers',\n",
       " u'hamreepjes',\n",
       " u'hansaplast',\n",
       " u'haring',\n",
       " u'hathie',\n",
       " u'hausmacher',\n",
       " u'havermoutpap',\n",
       " u'hazenvlees',\n",
       " u'hennepzaad',\n",
       " u'hond',\n",
       " u'huidverzorging',\n",
       " u'huisdieren',\n",
       " u'ijs',\n",
       " u'imitatiekaviaar',\n",
       " u'incabessen',\n",
       " u'insecten',\n",
       " u'jacobsschelpen',\n",
       " u'jam',\n",
       " u'jerky',\n",
       " u'jillz',\n",
       " u'jodekoek',\n",
       " u'jong',\n",
       " u'kaas',\n",
       " u'kabeljauwfilet',\n",
       " u'kabeljauwlever',\n",
       " u'kaki',\n",
       " u'kakifruit',\n",
       " u'kalfslappen',\n",
       " u'kalfsoester',\n",
       " u'kappertjes',\n",
       " u'kapucijners',\n",
       " u'karnemelk',\n",
       " u'kat',\n",
       " u'katenspek',\n",
       " u'kattenvoeding',\n",
       " u'kauwgom',\n",
       " u'kebab',\n",
       " u'kervel',\n",
       " u'ketchup',\n",
       " u'kidneybonen',\n",
       " u'kikkererwten',\n",
       " u'kipdrumsticks',\n",
       " u'kipfilet',\n",
       " u'kiphartjes',\n",
       " u'kipkluifjes',\n",
       " u'kippenbout',\n",
       " u'kippenhartjes',\n",
       " u'kippensoep',\n",
       " u'kipvleugels',\n",
       " u'knabbelspek',\n",
       " u'koffiepads',\n",
       " u'kokosbrood',\n",
       " u'kokosmelk',\n",
       " u'kokoswater',\n",
       " u'konijnenbout',\n",
       " u'konijnenvlees',\n",
       " u'kool',\n",
       " u'koolraap',\n",
       " u'korianderblad',\n",
       " u'kouseband',\n",
       " u'krakelingen',\n",
       " u'kreeft',\n",
       " u'kroepoek',\n",
       " u'kruidnoten',\n",
       " u'kurkuma',\n",
       " u'kwark',\n",
       " u'kwartel',\n",
       " u'lamsbout',\n",
       " u'lamshaas',\n",
       " u'lamsrack',\n",
       " u'laos',\n",
       " u'laurier',\n",
       " u'laurierblad',\n",
       " u'leverkaas',\n",
       " u'leverworst',\n",
       " u'lichtgerookt',\n",
       " u'likkepot',\n",
       " u'link',\n",
       " u'linzen',\n",
       " u'loempia',\n",
       " u'luiers',\n",
       " u'luncheon',\n",
       " u'maanden',\n",
       " u'maandverband',\n",
       " u'maizena',\n",
       " u'makreel',\n",
       " u'makreelfilets',\n",
       " u'mandarijnen',\n",
       " u'mantelschelpen',\n",
       " u'margarine',\n",
       " u'masterbeef',\n",
       " u'meelwormen',\n",
       " u'melkbroodjes',\n",
       " u'melkserum',\n",
       " u'meloenen',\n",
       " u'mexicano',\n",
       " u'mg',\n",
       " u'milkshake',\n",
       " u'mm',\n",
       " u'mondwater',\n",
       " u'mortadella',\n",
       " u'mosselen',\n",
       " u'mosselgroente',\n",
       " u'mosterd',\n",
       " u'mozzarella',\n",
       " u'muesli',\n",
       " u'muisjes',\n",
       " u'naans',\n",
       " u'nectarines',\n",
       " u'nescafe',\n",
       " u'noedels',\n",
       " u'nootmuskaat',\n",
       " u'olie',\n",
       " u'olijfolie',\n",
       " u'olijven',\n",
       " u'ontbijtkoek',\n",
       " u'ontbijtspek',\n",
       " u'oogbonen',\n",
       " u'ossenworst',\n",
       " u'padano',\n",
       " u'paksoi',\n",
       " u'pampers',\n",
       " u'panado',\n",
       " u'panini',\n",
       " u'paprikapoeder',\n",
       " u'paranoten',\n",
       " u'parelhoen',\n",
       " u'parmigiano',\n",
       " u'pastrami',\n",
       " u'patate',\n",
       " u'pecannoten',\n",
       " u'penne',\n",
       " u'pepernoten',\n",
       " u'peren',\n",
       " u'perssinaasappelen',\n",
       " u'perziken',\n",
       " u'pesto',\n",
       " u'piccalilly',\n",
       " u'pijnboompitten',\n",
       " u'pindakaas',\n",
       " u'pistachenoten',\n",
       " u'pita',\n",
       " u'pitloze',\n",
       " u'pizza',\n",
       " u'pizzabodems',\n",
       " u'planten',\n",
       " u'plantverzorging',\n",
       " u'pompoensoep',\n",
       " u'popcorn',\n",
       " u'port',\n",
       " u'portugese',\n",
       " u'potgrond',\n",
       " u'pudding',\n",
       " u'puddingcroissants',\n",
       " u'quiches',\n",
       " u'radler',\n",
       " u'ragout',\n",
       " u'ratatouille',\n",
       " u'rauwkost',\n",
       " u'reebiefstuk',\n",
       " u'riblap',\n",
       " u'rijstepap',\n",
       " u'rivierkreeftenvlees',\n",
       " u'rode',\n",
       " u'roggebrood',\n",
       " u'roodbaarsfilet',\n",
       " u'rooibos',\n",
       " u'rookworst',\n",
       " u'roquefort',\n",
       " u'rosbief',\n",
       " u'rose',\n",
       " u'rosti',\n",
       " u'runderchipolata',\n",
       " u'rundergehakt',\n",
       " u'runderlappen',\n",
       " u'runderpoulet',\n",
       " u'runderrookvlees',\n",
       " u'rundertartaar',\n",
       " u'rundervinken',\n",
       " u'sambal',\n",
       " u'sardines',\n",
       " u'satesaus',\n",
       " u'saucijzen',\n",
       " u'saucijzenbroodjes',\n",
       " u'scheuten',\n",
       " u'schinken',\n",
       " u'schnitzel',\n",
       " u'schol',\n",
       " u'scholfilet',\n",
       " u'schwarzwalder',\n",
       " u'seitan',\n",
       " u'sellerie',\n",
       " u'selleriesalade',\n",
       " u'seroendeng',\n",
       " u'sesamolie',\n",
       " u'sesamzaad',\n",
       " u'shampoo',\n",
       " u'sherry',\n",
       " u'shoarmavlees',\n",
       " u'sigaretten',\n",
       " u'sinaasappels',\n",
       " u'sinaasappelsap',\n",
       " u'sjalotten',\n",
       " u'slakken',\n",
       " u'slavinken',\n",
       " u'slijtvergunning',\n",
       " u'sliptong',\n",
       " u'smeltkaas',\n",
       " u'smoothie',\n",
       " u'snoep',\n",
       " u'soep',\n",
       " u'soepballetjes',\n",
       " u'soepgroenten',\n",
       " u'soepstengels',\n",
       " u'soepvlees',\n",
       " u'sojadrink',\n",
       " u'spareribs',\n",
       " u'speckjes',\n",
       " u'speklappen',\n",
       " u'spekreepjes',\n",
       " u'spinazie',\n",
       " u'spitskool',\n",
       " u'sprits',\n",
       " u'stamppot',\n",
       " u'stroopwafels',\n",
       " u'struisvogelbiefstuk',\n",
       " u'struisvogelvlees',\n",
       " u'suikerbrood',\n",
       " u'sulfieten',\n",
       " u'supplementen',\n",
       " u'surimi',\n",
       " u'taai',\n",
       " u'taartina',\n",
       " u'tahin',\n",
       " u'tandenborstels',\n",
       " u'tandpasta',\n",
       " u'tandverzorging',\n",
       " u'tapenade',\n",
       " u'tauge',\n",
       " u'teer',\n",
       " u'tempeh',\n",
       " u'thee',\n",
       " u'tilapiafilet',\n",
       " u'tiramisu',\n",
       " u'tjampoer',\n",
       " u'tofu',\n",
       " u'toiletpapier',\n",
       " u'tomatensoep',\n",
       " u'tongenworst',\n",
       " u'tonic',\n",
       " u'tonijn',\n",
       " u'tortilla',\n",
       " u'tuinkers',\n",
       " u'varkenshaas',\n",
       " u'varkensvlees',\n",
       " u'vetspek',\n",
       " u'viennetta',\n",
       " u'vingers',\n",
       " u'vis',\n",
       " u'viseitjes',\n",
       " u'vitamines',\n",
       " u'vla',\n",
       " u'vlees',\n",
       " u'vochtig',\n",
       " u'vuilniszakken',\n",
       " u'walnoten',\n",
       " u'wasaccessoires',\n",
       " u'wigger',\n",
       " u'wiggers',\n",
       " u'wijn',\n",
       " u'wokolie',\n",
       " u'worst',\n",
       " u'worstenbroodjes',\n",
       " u'yoghurt',\n",
       " u'yoghurtijs',\n",
       " u'zalm',\n",
       " u'zeep',\n",
       " u'zeevruchtencocktail',\n",
       " u'zeewier',\n",
       " u'zilveruien',\n",
       " u'zilveruitjes',\n",
       " u'zoutvlees',\n",
       " u'zuurkool',\n",
       " u'zuurvlees',\n",
       " u'zwijnsvlees'}"
      ]
     },
     "execution_count": 29,
     "metadata": {},
     "output_type": "execute_result"
    }
   ],
   "source": [
    "# 99 procent - 1% best\n",
    "set(vocab.keys()) - set(list_removed)"
   ]
  },
  {
   "cell_type": "code",
   "execution_count": 30,
   "metadata": {
    "collapsed": false
   },
   "outputs": [
    {
     "name": "stdout",
     "output_type": "stream",
     "text": [
      "True\n",
      "True\n"
     ]
    }
   ],
   "source": [
    "print 'suiker' in list_removed\n",
    "print 'zout' in list_removed"
   ]
  },
  {
   "cell_type": "markdown",
   "metadata": {},
   "source": [
    "** Validate **"
   ]
  },
  {
   "cell_type": "code",
   "execution_count": 114,
   "metadata": {
    "collapsed": false
   },
   "outputs": [
    {
     "name": "stdout",
     "output_type": "stream",
     "text": [
      "[LibLinear]"
     ]
    }
   ],
   "source": [
    "clf.fit(X_TRAIN, Y_TRAIN)\n",
    "predictions = clf.predict(X_VALIDATE)"
   ]
  },
  {
   "cell_type": "code",
   "execution_count": 115,
   "metadata": {
    "collapsed": false
   },
   "outputs": [
    {
     "name": "stderr",
     "output_type": "stream",
     "text": [
      "//anaconda/lib/python2.7/site-packages/sklearn/metrics/classification.py:1113: UndefinedMetricWarning: Precision and F-score are ill-defined and being set to 0.0 in labels with no predicted samples.\n",
      "  'precision', 'predicted', average, warn_for)\n",
      "//anaconda/lib/python2.7/site-packages/sklearn/metrics/classification.py:1115: UndefinedMetricWarning: Recall and F-score are ill-defined and being set to 0.0 in labels with no true samples.\n",
      "  'recall', 'true', average, warn_for)\n"
     ]
    }
   ],
   "source": [
    "def classifaction_report_csv(report):\n",
    "    report_data = []\n",
    "    lines = report.encode('ascii', 'ignore').split('\\n')\n",
    "    for line in (lines[2:-3] + [lines[-2]]):\n",
    "        row = {}\n",
    "        row_data = line.strip().split('  ')\n",
    "        row_data = [x for x in row_data if x != '']\n",
    "        row['class'] = row_data[0]\n",
    "        row['precision'] = row_data[1]\n",
    "        row['recall'] = row_data[2]\n",
    "        row['f1_score'] = row_data[3]\n",
    "        row['support'] = row_data[4]\n",
    "        report_data.append(row)\n",
    "    dataframe = pd.DataFrame.from_dict(report_data)\n",
    "    #dataframe.to_csv('classification_report.csv', index = False)\n",
    "    return dataframe\n",
    "\n",
    "report = classification_report(Y_VALIDATE, predictions)\n",
    "df = classifaction_report_csv(report)"
   ]
  },
  {
   "cell_type": "code",
   "execution_count": 118,
   "metadata": {
    "collapsed": false,
    "scrolled": true
   },
   "outputs": [
    {
     "name": "stdout",
     "output_type": "stream",
     "text": [
      "micro recall score:  0.770644335892\n"
     ]
    }
   ],
   "source": [
    "print 'micro recall score: ',recall_score(Y_VALIDATE, predictions, average = 'micro')"
   ]
  },
  {
   "cell_type": "markdown",
   "metadata": {},
   "source": [
    "- Reliable Recall Macro Score"
   ]
  },
  {
   "cell_type": "code",
   "execution_count": 117,
   "metadata": {
    "collapsed": false
   },
   "outputs": [
    {
     "name": "stdout",
     "output_type": "stream",
     "text": [
      "macro recall score:  0.603302387268\n"
     ]
    }
   ],
   "source": [
    "report_data = []\n",
    "lines = report.encode('ascii', 'ignore').split('\\n')\n",
    "for line in (lines[2:-3] + [lines[-2]]):\n",
    "    row = {}\n",
    "    row_data = line.strip().split('  ')\n",
    "    row_data = [x for x in row_data if x != '']\n",
    "    row['class'] = row_data[0]\n",
    "    row['precision'] = row_data[1]\n",
    "    row['recall'] = row_data[2]\n",
    "    row['f1_score'] = row_data[3]\n",
    "    row['support'] = row_data[4]\n",
    "    report_data.append(row)\n",
    "    \n",
    "recall = []\n",
    "for d in report_data:\n",
    "    if d['support'].strip() != '0':\n",
    "        recall.append(d['recall'])\n",
    "        \n",
    "n_recall = [float(x) for x in recall]\n",
    "print 'macro recall score: ',sum(n_recall) / len(recall)"
   ]
  },
  {
   "cell_type": "code",
   "execution_count": null,
   "metadata": {
    "collapsed": true
   },
   "outputs": [],
   "source": []
  }
 ],
 "metadata": {
  "anaconda-cloud": {},
  "kernelspec": {
   "display_name": "Python [conda root]",
   "language": "python",
   "name": "conda-root-py"
  },
  "language_info": {
   "codemirror_mode": {
    "name": "ipython",
    "version": 2
   },
   "file_extension": ".py",
   "mimetype": "text/x-python",
   "name": "python",
   "nbconvert_exporter": "python",
   "pygments_lexer": "ipython2",
   "version": "2.7.12"
  },
  "widgets": {
   "state": {
    "0573f127d23643d9948144e1e833e544": {
     "views": [
      {
       "cell_index": 13
      }
     ]
    },
    "387732895c1a45d79fc05dbdee2d950f": {
     "views": [
      {
       "cell_index": 10
      }
     ]
    },
    "54d550c9ca7f491c98252a56b25e1917": {
     "views": [
      {
       "cell_index": 9
      }
     ]
    },
    "7410de1b988b45a9a1c01d66c7481c40": {
     "views": [
      {
       "cell_index": 8
      }
     ]
    },
    "7c8952028f8048d49dba7b3bac14fee1": {
     "views": [
      {
       "cell_index": 10
      }
     ]
    },
    "d537d0f9b6a5462f83d86c785c893cde": {
     "views": [
      {
       "cell_index": 3
      }
     ]
    }
   },
   "version": "1.2.0"
  }
 },
 "nbformat": 4,
 "nbformat_minor": 1
}

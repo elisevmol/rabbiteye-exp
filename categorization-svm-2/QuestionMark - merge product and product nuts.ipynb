{
 "cells": [
  {
   "cell_type": "markdown",
   "metadata": {},
   "source": [
    "The goal of this code is to create one list where each product nut also contains the assigned usage and the product_id"
   ]
  },
  {
   "cell_type": "markdown",
   "metadata": {},
   "source": [
    "- Imports"
   ]
  },
  {
   "cell_type": "code",
   "execution_count": 13,
   "metadata": {
    "collapsed": true
   },
   "outputs": [],
   "source": [
    "import csv\n",
    "import json\n",
    "from tqdm import tqdm_notebook\n",
    "from collections import defaultdict"
   ]
  },
  {
   "cell_type": "markdown",
   "metadata": {},
   "source": [
    "- Getting the data"
   ]
  },
  {
   "cell_type": "code",
   "execution_count": 14,
   "metadata": {
    "collapsed": true
   },
   "outputs": [],
   "source": [
    "products = '/Users/elise/Documents/?/? data/new/products.txt'\n",
    "products_nuts = '/Users/elise/Documents/?/? data/new/product_nuts.txt'\n",
    "\n",
    "result = '/Users/elise/Documents/?/? data/new/product_nuts_with_usage_and_product_id.csv'"
   ]
  },
  {
   "cell_type": "code",
   "execution_count": 3,
   "metadata": {
    "collapsed": true
   },
   "outputs": [],
   "source": [
    "# takes a path to a text file and returns the contents of that text file\n",
    "def get_data(filename):\n",
    "    \n",
    "    f = open(filename, 'r')\n",
    "    output = [line for line in f]\n",
    "    f.close()\n",
    "\n",
    "    return output"
   ]
  },
  {
   "cell_type": "code",
   "execution_count": 4,
   "metadata": {
    "collapsed": true
   },
   "outputs": [],
   "source": [
    "products_data = get_data(products)\n",
    "products_nuts_data = get_data(products_nuts)"
   ]
  },
  {
   "cell_type": "code",
   "execution_count": 6,
   "metadata": {
    "collapsed": false
   },
   "outputs": [
    {
     "name": "stdout",
     "output_type": "stream",
     "text": [
      "\n",
      "\n"
     ]
    }
   ],
   "source": [
    "# takes only the entries in products_data and products_nuts_data if they are a json object\n",
    "# and loads the json object so that it can be used\n",
    "data_p = []\n",
    "for x in tqdm_notebook(products_data):\n",
    "    if x[0] == '{':\n",
    "        data_p.append(json.loads(x))\n",
    "    \n",
    "data_pn = []\n",
    "for x in tqdm_notebook(products_nuts_data):\n",
    "    if x[0] == '{':\n",
    "        data_pn.append(json.loads(x))\n",
    "\n",
    "data_pn = data_pn[1:]"
   ]
  },
  {
   "cell_type": "markdown",
   "metadata": {},
   "source": [
    "- Merging the data"
   ]
  },
  {
   "cell_type": "code",
   "execution_count": 9,
   "metadata": {
    "collapsed": false
   },
   "outputs": [
    {
     "name": "stdout",
     "output_type": "stream",
     "text": [
      "\n"
     ]
    }
   ],
   "source": [
    "# makes a dict_p where for each id in data_p, so all ids with a usage, are added with their corresponding \n",
    "# product_nut_id usage and product_id.\n",
    "dict_p = {}\n",
    "for x in tqdm_notebook(data_p):\n",
    "    for _id in x['product_nut_ids']:\n",
    "        _dict = {}\n",
    "        _dict['product_nut_id'] = _id\n",
    "        _dict['usage'] = x['usage_name']\n",
    "        _dict['product_id'] = x['id']\n",
    "        dict_p[_id] = _dict"
   ]
  },
  {
   "cell_type": "code",
   "execution_count": 10,
   "metadata": {
    "collapsed": false
   },
   "outputs": [
    {
     "name": "stdout",
     "output_type": "stream",
     "text": [
      "\n"
     ]
    }
   ],
   "source": [
    "# makes a list with all the data_pn items that have a usage (so appear in dict_p.keys())\n",
    "l = set(dict_p.keys())\n",
    "\n",
    "data_pn_usage = []\n",
    "for x in tqdm_notebook(data_pn):\n",
    "    if x['id'] in l:\n",
    "        data_pn_usage.append(x)"
   ]
  },
  {
   "cell_type": "code",
   "execution_count": 11,
   "metadata": {
    "collapsed": false
   },
   "outputs": [
    {
     "name": "stdout",
     "output_type": "stream",
     "text": [
      "\n"
     ]
    }
   ],
   "source": [
    "# makes the new data_pn where the usage and product_id are both new keys\n",
    "new_data_pn = []\n",
    "for x in tqdm_notebook(data_pn_usage):\n",
    "    x['usage'] = dict_p[x['id']]['usage']\n",
    "    x['product_id'] = dict_p[x['id']]['product_id']\n",
    "    new_data_pn.append(x)"
   ]
  },
  {
   "cell_type": "code",
   "execution_count": 12,
   "metadata": {
    "collapsed": false
   },
   "outputs": [],
   "source": [
    "# this way all structures are preserved\n",
    "as_a_list = [[x] for x in new_data_pn]"
   ]
  },
  {
   "cell_type": "code",
   "execution_count": 15,
   "metadata": {
    "collapsed": true
   },
   "outputs": [],
   "source": [
    "# write the new data_pn to the path stored under result\n",
    "with open(result, \"a\") as f:\n",
    "    writer = csv.writer(f)\n",
    "    writer.writerows(as_a_list)"
   ]
  }
 ],
 "metadata": {
  "anaconda-cloud": {},
  "kernelspec": {
   "display_name": "Python [conda root]",
   "language": "python",
   "name": "conda-root-py"
  },
  "language_info": {
   "codemirror_mode": {
    "name": "ipython",
    "version": 2
   },
   "file_extension": ".py",
   "mimetype": "text/x-python",
   "name": "python",
   "nbconvert_exporter": "python",
   "pygments_lexer": "ipython2",
   "version": "2.7.12"
  },
  "widgets": {
   "state": {
    "62f4e47487a946eaa39f06c9bb2f8fb4": {
     "views": [
      {
       "cell_index": 12
      }
     ]
    },
    "6d3e4f7af4a0419b973174bc3bc92139": {
     "views": [
      {
       "cell_index": 8
      }
     ]
    },
    "879140611f604340a032b4b688de5c9f": {
     "views": [
      {
       "cell_index": 8
      }
     ]
    },
    "c68da8a6d7ab47d38322d8086f81cb21": {
     "views": [
      {
       "cell_index": 10
      }
     ]
    },
    "c8d9beea46e64a9e92003aac49d83a1b": {
     "views": [
      {
       "cell_index": 11
      }
     ]
    }
   },
   "version": "1.2.0"
  }
 },
 "nbformat": 4,
 "nbformat_minor": 1
}

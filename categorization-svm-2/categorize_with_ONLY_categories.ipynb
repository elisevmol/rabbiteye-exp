{
 "cells": [
  {
   "cell_type": "markdown",
   "metadata": {},
   "source": [
    "Implementation on new data with Bubble"
   ]
  },
  {
   "cell_type": "code",
   "execution_count": 2,
   "metadata": {
    "collapsed": false
   },
   "outputs": [
    {
     "name": "stderr",
     "output_type": "stream",
     "text": [
      "//anaconda/lib/python2.7/site-packages/sklearn/cross_validation.py:44: DeprecationWarning: This module was deprecated in version 0.18 in favor of the model_selection module into which all the refactored classes and functions are moved. Also note that the interface of the new CV iterators are different from that of this module. This module will be removed in 0.20.\n",
      "  \"This module will be removed in 0.20.\", DeprecationWarning)\n"
     ]
    }
   ],
   "source": [
    "import re\n",
    "import sys\n",
    "import csv\n",
    "import time\n",
    "import json\n",
    "\n",
    "from unidecode import unidecode\n",
    "\n",
    "import numpy as np\n",
    "import pandas as pd\n",
    "\n",
    "from tqdm import tqdm_notebook\n",
    "from unidecode import unidecode\n",
    "\n",
    "from collections import defaultdict\n",
    "from collections import Counter\n",
    "from nltk import word_tokenize\n",
    "from nltk.corpus import stopwords\n",
    "\n",
    "from sklearn.svm import LinearSVC\n",
    "from sklearn.feature_selection import SelectPercentile\n",
    "from sklearn.metrics import classification_report\n",
    "from sklearn.metrics import precision_recall_fscore_support\n",
    "from sklearn.metrics import recall_score\n",
    "from sklearn.multiclass import OneVsRestClassifier\n",
    "from sklearn.cross_validation import cross_val_score\n",
    "from sklearn.cross_validation import cross_val_predict\n",
    "from sklearn.cross_validation import LeaveOneLabelOut\n",
    "from sklearn.cross_validation import train_test_split\n",
    "from sklearn.feature_extraction.text import CountVectorizer"
   ]
  },
  {
   "cell_type": "code",
   "execution_count": 3,
   "metadata": {
    "collapsed": true
   },
   "outputs": [],
   "source": [
    "source = '/Users/elise/Documents/?/? data/new/product_nuts_with_usage_and_product_id.csv'\n",
    "#source = 'data/product_nuts_with_usage_and_product_id.csv'"
   ]
  },
  {
   "cell_type": "code",
   "execution_count": 4,
   "metadata": {
    "collapsed": false
   },
   "outputs": [
    {
     "name": "stdout",
     "output_type": "stream",
     "text": [
      "\n"
     ]
    }
   ],
   "source": [
    "data_pn_usage = []\n",
    "\n",
    "with open(source) as csvfile:\n",
    "    readCSV = csv.reader(csvfile, delimiter=',')\n",
    "    for row in tqdm_notebook(readCSV):\n",
    "        data_pn_usage.append(eval(row[0]))"
   ]
  },
  {
   "cell_type": "markdown",
   "metadata": {},
   "source": [
    "** Select only those product nuts that have a category ** "
   ]
  },
  {
   "cell_type": "code",
   "execution_count": 5,
   "metadata": {
    "collapsed": true
   },
   "outputs": [],
   "source": [
    "STOPWORDS = '''\n",
    "    het de deze en of om te hier nog ook al in van voor mee per als tot uit bij waar waardoor waarvan wanneer\n",
    "    je uw ze zelf jezelf ca bijv bijvoorbeeld is bevat hebben kunnen mogen zullen willen gemaakt aanbevolen\n",
    "    belangrijk belangrijke heerlijk heerlijke handig handige dagelijks dagelijkse\n",
    "    gebruik allergieinformatie bijdrage smaak hoeveelheid aan aangaande aangezien achter achterna afgelopen \n",
    "    al aldaar aldus alhoewel alias alle allebei alleen alsnog altijd altoos ander andere anders anderszins \n",
    "    behalve behoudens beide beiden ben beneden bent bepaald betreffende bij binnen binnenin boven bovenal \n",
    "    bovendien bovengenoemd bovenstaand bovenvermeld buiten daar daarheen daarin daarna daarnet daarom daarop \n",
    "    daarvanlangs dan dat de die dikwijls dit door doorgaand dus echter eer eerdat eerder eerlang eerst elk elke \n",
    "    en enig enigszins enkel er erdoor even eveneens evenwel gauw gedurende geen gehad gekund geleden gelijk \n",
    "    gemoeten gemogen geweest gewoon gewoonweg haar had hadden hare heb hebben hebt heeft hem hen het hierbeneden \n",
    "    hierboven hij hoe hoewel hun hunne ik ikzelf in inmiddels inzake is jezelf jij jijzelf jou jouw jouwe juist\n",
    "    jullie kan klaar kon konden krachtens kunnen kunt later liever maar mag meer met mezelf mij mijn mijnent mijner \n",
    "    mijzelf misschien mocht mochten moest moesten moet moeten mogen na naar nadat net niet noch nog nogal nu of \n",
    "    ofschoon om omdat omhoog omlaag omstreeks omtrent omver onder ondertussen ongeveer ons onszelf onze ook op \n",
    "    opnieuw opzij over overeind overigens pas precies reeds rond rondom sedert sinds sindsdien slechts sommige \n",
    "    spoedig steeds tamelijk tenzij terwijl thans tijdens toch toen toenmaals toenmalig tot totdat tussen uit \n",
    "    uitgezonderd vaak van vandaan vanuit vanwege veeleer verder vervolgens vol volgens voor vooraf vooral \n",
    "    vooralsnog voorbij voordat voordezen voordien voorheen voorop vooruit vrij vroeg waar waarom wanneer \n",
    "    want waren was wat weer weg wegens wel weldra welk welke wie wiens wier wij wijzelf zal ze zelfs zichzelf \n",
    "    zij zijn zijne zo zodra zonder zou zouden zowat zulke zullen zult een  je  te lekker bekende wordt namelijk\n",
    "'''.split()\n",
    "\n",
    "def clean(s):\n",
    "    if s is None: return None\n",
    "    s = unidecode(s).strip() # removes unicode\n",
    "    s = re.sub('<[^<]+?>', '', s)\n",
    "    s = re.sub(r'[^A-Za-z0-9\\'\\s]', '', s, flags=re.MULTILINE) # removes all non A-Z a-z or numbers\n",
    "    s = re.sub(r'\\s+', ' ', s, flags=re.MULTILINE) # replaces all whitespace with a space\n",
    "    return s\n",
    "\n",
    "def f_categories(j):\n",
    "    if j.get('categories', '') == '': return []\n",
    "    \n",
    "    categories = []\n",
    "    for x in j.get('categories', ''):\n",
    "        categories.extend(x.split(' '))\n",
    "        \n",
    "    categories = [clean(c) for c in categories]\n",
    "    return categories\n",
    "\n",
    "def tok(data):\n",
    "    '''Returns a dict including the tokens, usage and product_id for all products nuts'''\n",
    "    id_tokens = []\n",
    "    for j in data:\n",
    "\n",
    "        tokens = f_categories(j)\n",
    "        tokens = filter(lambda s: s not in STOPWORDS, tokens)\n",
    "        tokens = filter(lambda s: len(s) > 1, tokens)\n",
    "        \n",
    "        id_tokens.append({'id': j['id'], 'tokens': tokens, 'usage':j['usage'], 'product_id':j['product_id']})\n",
    "        \n",
    "    return id_tokens"
   ]
  },
  {
   "cell_type": "code",
   "execution_count": 6,
   "metadata": {
    "collapsed": false
   },
   "outputs": [],
   "source": [
    "pn_categories = [x for x in data_pn_usage if x.get('categories', '') != '']\n",
    "id_tokens_categories = tok(pn_categories)"
   ]
  },
  {
   "cell_type": "code",
   "execution_count": 9,
   "metadata": {
    "collapsed": false
   },
   "outputs": [
    {
     "name": "stdout",
     "output_type": "stream",
     "text": [
      "177520\n",
      "493168\n"
     ]
    }
   ],
   "source": [
    "print len(id_tokens_categories)\n",
    "print len(data_pn_usage)"
   ]
  },
  {
   "cell_type": "markdown",
   "metadata": {},
   "source": [
    "- Remove doubles\n",
    "- Include only those nut products if the usage appears in at least 3 products"
   ]
  },
  {
   "cell_type": "code",
   "execution_count": 10,
   "metadata": {
    "collapsed": false
   },
   "outputs": [
    {
     "name": "stdout",
     "output_type": "stream",
     "text": [
      "\n"
     ]
    }
   ],
   "source": [
    "# removes doubles\n",
    "known = set()\n",
    "no_doubles = []\n",
    "\n",
    "for d in tqdm_notebook(id_tokens_categories):\n",
    "    tok = ' '.join(d['tokens'])\n",
    "    if tok in known: \n",
    "        continue\n",
    "    no_doubles.append(d)\n",
    "    known.add(tok)"
   ]
  },
  {
   "cell_type": "code",
   "execution_count": 11,
   "metadata": {
    "collapsed": false
   },
   "outputs": [
    {
     "name": "stdout",
     "output_type": "stream",
     "text": [
      "\n"
     ]
    }
   ],
   "source": [
    "# makes a dict where each tuple has one usage and all the product_ids linked to it\n",
    "k = [{x['usage']: x['product_id']} for x in no_doubles]\n",
    "dd = defaultdict(list)\n",
    "\n",
    "for d in tqdm_notebook(k): \n",
    "    for key, value in d.iteritems():\n",
    "        dd[key].append(value)"
   ]
  },
  {
   "cell_type": "code",
   "execution_count": 12,
   "metadata": {
    "collapsed": false
   },
   "outputs": [
    {
     "name": "stdout",
     "output_type": "stream",
     "text": [
      "\n",
      "\n"
     ]
    }
   ],
   "source": [
    "# checks if a usage is linked to at least 3 products\n",
    "allowed_usage = []\n",
    "for x in tqdm_notebook(dd.items()):\n",
    "    if len(set(x[1])) > 2:\n",
    "        allowed_usage.append(x[0])\n",
    "        \n",
    "set_allowed_usage = set(allowed_usage)\n",
    "\n",
    "complete = []\n",
    "for x in tqdm_notebook(no_doubles):\n",
    "    if x['usage'] in set_allowed_usage:\n",
    "        complete.append(x)"
   ]
  },
  {
   "cell_type": "markdown",
   "metadata": {},
   "source": [
    "LABELS"
   ]
  },
  {
   "cell_type": "code",
   "execution_count": 13,
   "metadata": {
    "collapsed": true
   },
   "outputs": [],
   "source": [
    "labels = [x['product_id'] for x in complete]"
   ]
  },
  {
   "cell_type": "code",
   "execution_count": 14,
   "metadata": {
    "collapsed": false
   },
   "outputs": [
    {
     "name": "stdout",
     "output_type": "stream",
     "text": [
      "\n"
     ]
    }
   ],
   "source": [
    "K_fold = int(len(set(labels)) / 6)\n",
    "\n",
    "one = set(list(set(labels))[:K_fold])\n",
    "two = set(list(set(labels))[K_fold:(K_fold * 2)])\n",
    "three = set(list(set(labels))[(2 * K_fold):(K_fold * 3)])\n",
    "four = set(list(set(labels))[(3 * K_fold):(K_fold * 4)])\n",
    "five = set(list(set(labels))[(4 * K_fold):(K_fold * 5)])\n",
    "six = set(list(set(labels))[(5 * K_fold):])\n",
    "\n",
    "labels_6 = []\n",
    "for label in tqdm_notebook(labels):\n",
    "    if label in one:\n",
    "        labels_6.append(1)\n",
    "    elif label in two:\n",
    "        labels_6.append(2)\n",
    "    elif label in three:\n",
    "        labels_6.append(3)\n",
    "    elif label in four:\n",
    "        labels_6.append(4)\n",
    "    elif label in five:\n",
    "        labels_6.append(5)\n",
    "    elif label in six:\n",
    "        labels_6.append(6)"
   ]
  },
  {
   "cell_type": "markdown",
   "metadata": {},
   "source": [
    "X"
   ]
  },
  {
   "cell_type": "code",
   "execution_count": 15,
   "metadata": {
    "collapsed": false
   },
   "outputs": [],
   "source": [
    "text_per_item_pn_TRAIN = [' '.join(tokens['tokens']) for tokens in complete if tokens['product_id'] not in six]\n",
    "text_per_item_pn_VALIDATE = [' '.join(tokens['tokens']) for tokens in complete if tokens['product_id'] in six]"
   ]
  },
  {
   "cell_type": "code",
   "execution_count": 16,
   "metadata": {
    "collapsed": false
   },
   "outputs": [],
   "source": [
    "vectorizer = CountVectorizer(min_df=1, binary=True)\n",
    "X_TRAIN = vectorizer.fit_transform(text_per_item_pn_TRAIN)"
   ]
  },
  {
   "cell_type": "code",
   "execution_count": 17,
   "metadata": {
    "collapsed": true
   },
   "outputs": [],
   "source": [
    "vocab = vectorizer.vocabulary_\n",
    "vectorizer = CountVectorizer(min_df=1, vocabulary=vocab)\n",
    "X_VALIDATE = vectorizer.fit_transform(text_per_item_pn_VALIDATE)"
   ]
  },
  {
   "cell_type": "markdown",
   "metadata": {},
   "source": [
    "Y"
   ]
  },
  {
   "cell_type": "code",
   "execution_count": 18,
   "metadata": {
    "collapsed": true
   },
   "outputs": [],
   "source": [
    "Y_TRAIN = [x['usage'] for x in complete if x['product_id'] not in six]\n",
    "Y_VALIDATE = [x['usage'] for x in complete if x['product_id'] in six]"
   ]
  },
  {
   "cell_type": "code",
   "execution_count": 19,
   "metadata": {
    "collapsed": false
   },
   "outputs": [],
   "source": [
    "labels_TRAIN = []\n",
    "for x in enumerate(labels_6):\n",
    "    if x[1] != 6:\n",
    "        labels_TRAIN.append(x[1])"
   ]
  },
  {
   "cell_type": "code",
   "execution_count": 20,
   "metadata": {
    "collapsed": false
   },
   "outputs": [
    {
     "name": "stdout",
     "output_type": "stream",
     "text": [
      "X:  (733, 2524) Y:  733\n",
      "X:  (3679, 2524) Y:  3679 Labels:  3679\n"
     ]
    }
   ],
   "source": [
    "print 'X: ', X_VALIDATE.shape, 'Y: ', len(Y_VALIDATE)\n",
    "print 'X: ', X_TRAIN.shape, 'Y: ',len(Y_TRAIN), 'Labels: ', len(labels_TRAIN)"
   ]
  },
  {
   "cell_type": "markdown",
   "metadata": {},
   "source": [
    "Cross_Validation"
   ]
  },
  {
   "cell_type": "code",
   "execution_count": 21,
   "metadata": {
    "collapsed": false
   },
   "outputs": [
    {
     "name": "stdout",
     "output_type": "stream",
     "text": [
      "[LibLinear][LibLinear][LibLinear][LibLinear][LibLinear]"
     ]
    }
   ],
   "source": [
    "cv = LeaveOneLabelOut(labels_TRAIN)\n",
    "\n",
    "clf = LinearSVC(random_state = 2, verbose = 1)\n",
    "scores = cross_val_score(clf, X_TRAIN, Y_TRAIN, cv=cv, scoring='accuracy')"
   ]
  },
  {
   "cell_type": "code",
   "execution_count": 22,
   "metadata": {
    "collapsed": false
   },
   "outputs": [
    {
     "name": "stdout",
     "output_type": "stream",
     "text": [
      "Accuracy: 0.48 (+/- 0.03)\n"
     ]
    }
   ],
   "source": [
    "print \"Accuracy: %0.2f (+/- %0.2f)\" % (scores.mean(), scores.std() * 2)"
   ]
  },
  {
   "cell_type": "markdown",
   "metadata": {},
   "source": [
    "** Feature Reduction **"
   ]
  },
  {
   "cell_type": "code",
   "execution_count": 23,
   "metadata": {
    "collapsed": true
   },
   "outputs": [],
   "source": [
    "def compute_scores(X, Y, labels):\n",
    "    cv = LeaveOneLabelOut(labels_TRAIN)\n",
    "    clf = LinearSVC(random_state = 2, verbose = 1, max_iter=200000)\n",
    "    scores = cross_val_score(clf, X, Y, cv=cv, scoring='accuracy', n_jobs=-1)\n",
    "    \n",
    "    return scores"
   ]
  },
  {
   "cell_type": "code",
   "execution_count": 24,
   "metadata": {
    "collapsed": false
   },
   "outputs": [],
   "source": [
    "TRAIN = []\n",
    "percentages = [10, 20, 30, 40, 50, 60, 70, 80, 90, 100]\n",
    "\n",
    "for precentage in percentages:\n",
    "    TRAIN.append([precentage, SelectPercentile(percentile=precentage).fit_transform(X_TRAIN, Y_TRAIN)])"
   ]
  },
  {
   "cell_type": "code",
   "execution_count": 25,
   "metadata": {
    "collapsed": false
   },
   "outputs": [
    {
     "name": "stdout",
     "output_type": "stream",
     "text": [
      "\n"
     ]
    }
   ],
   "source": [
    "scores = []\n",
    "for train_x in tqdm_notebook(TRAIN):\n",
    "    scores.append([train_x[0], compute_scores(train_x[1], Y_TRAIN, labels_TRAIN)])"
   ]
  },
  {
   "cell_type": "code",
   "execution_count": 26,
   "metadata": {
    "collapsed": false,
    "scrolled": true
   },
   "outputs": [
    {
     "name": "stdout",
     "output_type": "stream",
     "text": [
      "Accuracy Linear SVC 10: 0.36 (+/- 0.04)\n",
      "Accuracy Linear SVC 20: 0.46 (+/- 0.03)\n",
      "Accuracy Linear SVC 30: 0.48 (+/- 0.03)\n",
      "Accuracy Linear SVC 40: 0.49 (+/- 0.02)\n",
      "Accuracy Linear SVC 50: 0.48 (+/- 0.03)\n",
      "Accuracy Linear SVC 60: 0.48 (+/- 0.03)\n",
      "Accuracy Linear SVC 70: 0.48 (+/- 0.02)\n",
      "Accuracy Linear SVC 80: 0.48 (+/- 0.03)\n",
      "Accuracy Linear SVC 90: 0.48 (+/- 0.03)\n",
      "Accuracy Linear SVC 100: 0.48 (+/- 0.03)\n"
     ]
    }
   ],
   "source": [
    "for score in scores:\n",
    "    print \"Accuracy Linear SVC \" + str(score[0]) + \": %0.2f (+/- %0.2f)\" % (score[1].mean(), score[1].std() * 2)"
   ]
  },
  {
   "cell_type": "code",
   "execution_count": 36,
   "metadata": {
    "collapsed": false
   },
   "outputs": [
    {
     "data": {
      "image/png": "[encoded data removed]",
      "text/plain": [
       "<matplotlib.figure.Figure at 0x1ad809ed0>"
      ]
     },
     "metadata": {},
     "output_type": "display_data"
    }
   ],
   "source": [
    "import matplotlib.pyplot as plt\n",
    "plt.title('Feature Reduction')\n",
    "plt.xlabel('Percentage of the Features')\n",
    "plt.ylabel('Accuracy')\n",
    "plt.grid(True)\n",
    "\n",
    "x = np.array([score[0] for score in scores])\n",
    "y = np.array([score[1].mean() for score in scores])\n",
    "\n",
    "plt.plot(x, y, color='black', marker='o', linestyle='-', markerfacecolor='pink', markersize=5)\n",
    "plt.savefig('feature_reduction_categories_2.png')\n",
    "plt.show()"
   ]
  },
  {
   "cell_type": "markdown",
   "metadata": {},
   "source": [
    "** Check what is removed **"
   ]
  },
  {
   "cell_type": "code",
   "execution_count": 27,
   "metadata": {
    "collapsed": false
   },
   "outputs": [],
   "source": [
    "reduced = SelectPercentile(percentile=4)\n",
    "reduced.fit(X_TRAIN, Y_TRAIN)\n",
    "list_of_features = reduced.get_support()"
   ]
  },
  {
   "cell_type": "code",
   "execution_count": 28,
   "metadata": {
    "collapsed": false
   },
   "outputs": [],
   "source": [
    "index_removed = []\n",
    "for x in enumerate(list_of_features):\n",
    "    if x[1] != True:\n",
    "        index_removed.append(x[0])"
   ]
  },
  {
   "cell_type": "code",
   "execution_count": 29,
   "metadata": {
    "collapsed": true
   },
   "outputs": [],
   "source": [
    "flipped_vocab = {v: k for k, v in vocab.iteritems()}"
   ]
  },
  {
   "cell_type": "code",
   "execution_count": 30,
   "metadata": {
    "collapsed": false
   },
   "outputs": [],
   "source": [
    "list_removed = []\n",
    "for n in index_removed:\n",
    "    list_removed.append(flipped_vocab[n])"
   ]
  },
  {
   "cell_type": "code",
   "execution_count": 31,
   "metadata": {
    "collapsed": false
   },
   "outputs": [
    {
     "data": {
      "text/plain": [
       "{u'aardappelproducten',\n",
       " u'aardappelsalade',\n",
       " u'aioli',\n",
       " u'appels',\n",
       " u'atjar',\n",
       " u'aubergine',\n",
       " u'bapao',\n",
       " u'beef',\n",
       " u'bier',\n",
       " u'blauwaderkaas',\n",
       " u'bloemen',\n",
       " u'boerenkool',\n",
       " u'bruintint',\n",
       " u'cashewnoten',\n",
       " u'cassis',\n",
       " u'cervelaat',\n",
       " u'champignons',\n",
       " u'cheese',\n",
       " u'chickenburger',\n",
       " u'chocoladepasta',\n",
       " u'cola',\n",
       " u'corned',\n",
       " u'dadels',\n",
       " u'dameshygiene',\n",
       " u'diksap',\n",
       " u'drogisterij',\n",
       " u'druiven',\n",
       " u'eieren',\n",
       " u'energiedranken',\n",
       " u'fazant',\n",
       " u'fricandeau',\n",
       " u'frituurvet',\n",
       " u'grillworst',\n",
       " u'hazelnoot',\n",
       " u'ijs',\n",
       " u'ijstaarten',\n",
       " u'kalfsvlees',\n",
       " u'kappertjes',\n",
       " u'kauwgom',\n",
       " u'ketchup',\n",
       " u'knoflooksaus',\n",
       " u'kokoswater',\n",
       " u'konijn',\n",
       " u'kookworst',\n",
       " u'koolvis',\n",
       " u'koreaans',\n",
       " u'koreaanse',\n",
       " u'kroepoek',\n",
       " u'lamsvlees',\n",
       " u'macaroni',\n",
       " u'makreel',\n",
       " u'meloen',\n",
       " u'meloenen',\n",
       " u'mondwater',\n",
       " u'olie',\n",
       " u'onion',\n",
       " u'ontbijtkoek',\n",
       " u'opvolgmelk',\n",
       " u'paddestoelen',\n",
       " u'paneermeel',\n",
       " u'paprikapoeder',\n",
       " u'parmezaanse',\n",
       " u'pecannoten',\n",
       " u'penne',\n",
       " u'peren',\n",
       " u'perziken',\n",
       " u'planten',\n",
       " u'pompoensoep',\n",
       " u'quiches',\n",
       " u'rode',\n",
       " u'rookvlees',\n",
       " u'salami',\n",
       " u'sambal',\n",
       " u'sardines',\n",
       " u'saucijzenbroodje',\n",
       " u'saucijzenbroodjes',\n",
       " u'schol',\n",
       " u'sinaasappels',\n",
       " u'sla',\n",
       " u'soep',\n",
       " u'soepvlees',\n",
       " u'spaghetti',\n",
       " u'spek',\n",
       " u'spinazie',\n",
       " u'spitskool',\n",
       " u'tijm',\n",
       " u'tissues',\n",
       " u'varkenshaas',\n",
       " u'vegetarisch',\n",
       " u'vis',\n",
       " u'vitamines',\n",
       " u'vla',\n",
       " u'vleesvervangers',\n",
       " u'vogel',\n",
       " u'vogelvoer',\n",
       " u'wijn',\n",
       " u'wild',\n",
       " u'worstvulling',\n",
       " u'zakdoekjes',\n",
       " u'zalm',\n",
       " u'zonnebloemolie'}"
      ]
     },
     "execution_count": 31,
     "metadata": {},
     "output_type": "execute_result"
    }
   ],
   "source": [
    "# 99 procent - 1% best\n",
    "set(vocab.keys()) - set(list_removed)"
   ]
  },
  {
   "cell_type": "code",
   "execution_count": 32,
   "metadata": {
    "collapsed": false
   },
   "outputs": [
    {
     "name": "stdout",
     "output_type": "stream",
     "text": [
      "True\n",
      "True\n"
     ]
    }
   ],
   "source": [
    "print 'suiker' in list_removed\n",
    "print 'zout' in list_removed"
   ]
  },
  {
   "cell_type": "markdown",
   "metadata": {},
   "source": [
    "** Validate **"
   ]
  },
  {
   "cell_type": "code",
   "execution_count": 114,
   "metadata": {
    "collapsed": false
   },
   "outputs": [
    {
     "name": "stdout",
     "output_type": "stream",
     "text": [
      "[LibLinear]"
     ]
    }
   ],
   "source": [
    "clf.fit(X_TRAIN, Y_TRAIN)\n",
    "predictions = clf.predict(X_VALIDATE)"
   ]
  },
  {
   "cell_type": "code",
   "execution_count": 115,
   "metadata": {
    "collapsed": false
   },
   "outputs": [
    {
     "name": "stderr",
     "output_type": "stream",
     "text": [
      "//anaconda/lib/python2.7/site-packages/sklearn/metrics/classification.py:1113: UndefinedMetricWarning: Precision and F-score are ill-defined and being set to 0.0 in labels with no predicted samples.\n",
      "  'precision', 'predicted', average, warn_for)\n",
      "//anaconda/lib/python2.7/site-packages/sklearn/metrics/classification.py:1115: UndefinedMetricWarning: Recall and F-score are ill-defined and being set to 0.0 in labels with no true samples.\n",
      "  'recall', 'true', average, warn_for)\n"
     ]
    }
   ],
   "source": [
    "def classifaction_report_csv(report):\n",
    "    report_data = []\n",
    "    lines = report.encode('ascii', 'ignore').split('\\n')\n",
    "    for line in (lines[2:-3] + [lines[-2]]):\n",
    "        row = {}\n",
    "        row_data = line.strip().split('  ')\n",
    "        row_data = [x for x in row_data if x != '']\n",
    "        row['class'] = row_data[0]\n",
    "        row['precision'] = row_data[1]\n",
    "        row['recall'] = row_data[2]\n",
    "        row['f1_score'] = row_data[3]\n",
    "        row['support'] = row_data[4]\n",
    "        report_data.append(row)\n",
    "    dataframe = pd.DataFrame.from_dict(report_data)\n",
    "    #dataframe.to_csv('classification_report.csv', index = False)\n",
    "    return dataframe\n",
    "\n",
    "report = classification_report(Y_VALIDATE, predictions)\n",
    "df = classifaction_report_csv(report)"
   ]
  },
  {
   "cell_type": "code",
   "execution_count": 118,
   "metadata": {
    "collapsed": false,
    "scrolled": true
   },
   "outputs": [
    {
     "name": "stdout",
     "output_type": "stream",
     "text": [
      "micro recall score:  0.770644335892\n"
     ]
    }
   ],
   "source": [
    "print 'micro recall score: ',recall_score(Y_VALIDATE, predictions, average = 'micro')"
   ]
  },
  {
   "cell_type": "markdown",
   "metadata": {},
   "source": [
    "- Reliable Recall Macro Score"
   ]
  },
  {
   "cell_type": "code",
   "execution_count": 117,
   "metadata": {
    "collapsed": false
   },
   "outputs": [
    {
     "name": "stdout",
     "output_type": "stream",
     "text": [
      "macro recall score:  0.603302387268\n"
     ]
    }
   ],
   "source": [
    "report_data = []\n",
    "lines = report.encode('ascii', 'ignore').split('\\n')\n",
    "for line in (lines[2:-3] + [lines[-2]]):\n",
    "    row = {}\n",
    "    row_data = line.strip().split('  ')\n",
    "    row_data = [x for x in row_data if x != '']\n",
    "    row['class'] = row_data[0]\n",
    "    row['precision'] = row_data[1]\n",
    "    row['recall'] = row_data[2]\n",
    "    row['f1_score'] = row_data[3]\n",
    "    row['support'] = row_data[4]\n",
    "    report_data.append(row)\n",
    "    \n",
    "recall = []\n",
    "for d in report_data:\n",
    "    if d['support'].strip() != '0':\n",
    "        recall.append(d['recall'])\n",
    "        \n",
    "n_recall = [float(x) for x in recall]\n",
    "print 'macro recall score: ',sum(n_recall) / len(recall)"
   ]
  },
  {
   "cell_type": "code",
   "execution_count": null,
   "metadata": {
    "collapsed": true
   },
   "outputs": [],
   "source": []
  }
 ],
 "metadata": {
  "anaconda-cloud": {},
  "kernelspec": {
   "display_name": "Python [conda root]",
   "language": "python",
   "name": "conda-root-py"
  },
  "language_info": {
   "codemirror_mode": {
    "name": "ipython",
    "version": 2
   },
   "file_extension": ".py",
   "mimetype": "text/x-python",
   "name": "python",
   "nbconvert_exporter": "python",
   "pygments_lexer": "ipython2",
   "version": "2.7.12"
  },
  "widgets": {
   "state": {
    "592319cee521442e933c38fbc1908333": {
     "views": [
      {
       "cell_index": 11
      }
     ]
    },
    "760e2be7cec74bd5b47313f2cf4e22fa": {
     "views": [
      {
       "cell_index": 10
      }
     ]
    },
    "b8fb2378911843bc9fa4ceb1fb66371c": {
     "views": [
      {
       "cell_index": 9
      }
     ]
    },
    "f5fc5fdec2ad47c28593397bd64723cc": {
     "views": [
      {
       "cell_index": 14
      }
     ]
    },
    "f6c872cb8eda48b8bb11ac9536e975ea": {
     "views": [
      {
       "cell_index": 29
      }
     ]
    },
    "fadda49a126a4b7288af5fd084dbcb17": {
     "views": [
      {
       "cell_index": 11
      }
     ]
    },
    "fe9455901e114c9eb1c01102a057b23f": {
     "views": [
      {
       "cell_index": 3
      }
     ]
    }
   },
   "version": "1.2.0"
  }
 },
 "nbformat": 4,
 "nbformat_minor": 1
}
